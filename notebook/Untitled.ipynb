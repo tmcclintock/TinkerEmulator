{
 "cells": [
  {
   "cell_type": "code",
   "execution_count": 21,
   "metadata": {},
   "outputs": [
    {
     "name": "stdout",
     "output_type": "stream",
     "text": [
      "The autoreload extension is already loaded. To reload it, use:\n",
      "  %reload_ext autoreload\n"
     ]
    }
   ],
   "source": [
    "import numpy as np\n",
    "import matplotlib.pyplot as plt\n",
    "import sys\n",
    "sys.path.append(\"../TinkerEmulator/\")\n",
    "import TinkerEmulator\n",
    "%matplotlib inline\n",
    "%load_ext autoreload\n",
    "%autoreload 2 "
   ]
  },
  {
   "cell_type": "code",
   "execution_count": 22,
   "metadata": {},
   "outputs": [
    {
     "data": {
      "text/plain": [
       "-7.211056542395139"
      ]
     },
     "execution_count": 22,
     "metadata": {},
     "output_type": "execute_result"
    }
   ],
   "source": [
    "np.log(7.38376617e-04)"
   ]
  },
  {
   "cell_type": "code",
   "execution_count": 23,
   "metadata": {},
   "outputs": [
    {
     "name": "stdout",
     "output_type": "stream",
     "text": [
      "(7,)\n",
      "[-7.21105654 -4.95066548 -1.56694353 -4.10424403 -2.99017707  1.35357591\n",
      " -0.71213767]\n",
      "[7.38376617e-04 7.07869664e-03 2.08682040e-01 1.65024894e-02\n",
      " 5.02785334e-02 3.87124403e+00 4.90594346e-01]\n",
      "0 [-7.44791527 -7.46475535 -2.59955668 -5.88271629 -3.49390804 22.35883024\n",
      "  2.0321575 ]\n",
      "[-7.21105654 -4.95066548 -1.56694353 -4.10424403 -2.99017707  1.35357591\n",
      " -0.71213767]\n",
      "[7.38376617e-04 7.07869664e-03 2.08682040e-01 1.65024894e-02\n",
      " 5.02785334e-02 3.87124403e+00 4.90594346e-01]\n",
      "1 [-8.23942986 13.07829233 -1.64534545 24.55006208 -2.20850298  6.52984174\n",
      "  2.70231684]\n",
      "[-7.21105654 -4.95066548 -1.56694353 -4.10424403 -2.99017707  1.35357591\n",
      " -0.71213767]\n",
      "[7.38376617e-04 7.07869664e-03 2.08682040e-01 1.65024894e-02\n",
      " 5.02785334e-02 3.87124403e+00 4.90594346e-01]\n",
      "2 [-2.39901555 -4.98489679  0.62077564 27.23396802  6.66307742  6.46055102\n",
      "  5.09675166]\n",
      "[-7.21105654 -4.95066548 -1.56694353 -4.10424403 -2.99017707  1.35357591\n",
      " -0.71213767]\n",
      "[7.38376617e-04 7.07869664e-03 2.08682040e-01 1.65024894e-02\n",
      " 5.02785334e-02 3.87124403e+00 4.90594346e-01]\n",
      "3 [-4.20023013 -3.97101133  2.10243856 23.33257435  5.14880233 10.75333618\n",
      "  9.90968328]\n"
     ]
    }
   ],
   "source": [
    "emu = TinkerEmulator.TinkerEmulator()"
   ]
  },
  {
   "cell_type": "code",
   "execution_count": 24,
   "metadata": {},
   "outputs": [
    {
     "data": {
      "text/plain": [
       "(4.468028611188585,\n",
       " 0.28448480666666665,\n",
       " 1.4057166042127367,\n",
       " 1.3069858166666666,\n",
       " 0.6898978333333333,\n",
       " -1.2134163872509278)"
      ]
     },
     "execution_count": 24,
     "metadata": {},
     "output_type": "execute_result"
    }
   ],
   "source": [
    "cosmology = [0.0043*0.7**2, 0.286*0.7**2, -1, 1, 3.0, 70, 3.0]#Obh2 Och2 w0 n_s ln10As H0 N_eff\n",
    "emu.predict_tinker_parameters(cosmology, 0.2)"
   ]
  },
  {
   "cell_type": "code",
   "execution_count": 25,
   "metadata": {},
   "outputs": [],
   "source": [
    "cosmo_pars = np.loadtxt(\"../data/parameters.txt\")\n",
    "means = np.loadtxt(\"../data/rotated_means.txt\")\n",
    "variances = np.loadtxt(\"../data/rotated_variances.txt\")\n",
    "rotation_matrix = np.loadtxt(\"../data/rotation_matrix.txt\")"
   ]
  },
  {
   "cell_type": "code",
   "execution_count": 26,
   "metadata": {},
   "outputs": [],
   "source": [
    "y =  means-np.mean(means, axis=0)\n",
    "ymean = np.mean(means, axis=0)\n",
    "np.savetxt(\"../data/y.txt\", y)\n",
    "np.savetxt(\"../data/ymean.txt\", ymean)"
   ]
  },
  {
   "cell_type": "code",
   "execution_count": 27,
   "metadata": {},
   "outputs": [
    {
     "data": {
      "text/plain": [
       "(4, 4)"
      ]
     },
     "execution_count": 27,
     "metadata": {},
     "output_type": "execute_result"
    }
   ],
   "source": [
    "rotation_matrix.shape"
   ]
  },
  {
   "cell_type": "code",
   "execution_count": 28,
   "metadata": {},
   "outputs": [
    {
     "name": "stdout",
     "output_type": "stream",
     "text": [
      "    {-7.447915268015301,-7.464755353609274,-2.599556684860715,-5.882716288518414,-3.4939080354809993,22.358830237008306,2.032157502031422},\n",
      "    {-8.239429860610695,13.07829233346521,-1.6453454526929423,24.550062077519733,-2.208502981716708,6.529841736884619,2.702316841472215},\n",
      "    {-2.3990155505181465,-4.984896790635661,0.620775644293421,27.233968017539855,6.663077418826718,6.4605510210300094,5.096751656964856},\n",
      "    {-4.200230133291322,-3.9710113321459435,2.1024385590628487,23.33257434503111,5.148802333947621,10.753336183413882,9.909683275874231},\n"
     ]
    }
   ],
   "source": [
    "for item in np.array(emu.lamb):\n",
    "    print(\"    {\"+\",\".join([str(i) for i in item])+\"},\")"
   ]
  },
  {
   "cell_type": "code",
   "execution_count": 29,
   "metadata": {},
   "outputs": [
    {
     "name": "stdout",
     "output_type": "stream",
     "text": [
      "(40, 7) (40, 4) (40, 4) (4, 4)\n"
     ]
    }
   ],
   "source": [
    "print(cosmo_pars.shape, means.shape, variances.shape, rotation_matrix.shape)"
   ]
  },
  {
   "cell_type": "code",
   "execution_count": 32,
   "metadata": {},
   "outputs": [],
   "source": [
    "def kernel(x,xprime, lamb):\n",
    "    \"\"\"\n",
    "    lamb : d,1\n",
    "    xprime : n,d\n",
    "    x m,d\n",
    "    return 40,1\n",
    "    \"\"\"\n",
    "    result = np.zeros((len(x), len(xprime)))\n",
    "    for i in range(len(x)):\n",
    "        for j in range(len(xprime)):\n",
    "            result[i,j] = np.exp(-1*np.sum((x[i]-xprime[j])**2/(2*(lamb.reshape(-1,1).T)), axis=1))\n",
    "    return result\n",
    "def sigma(x, xprime, lamb):\n",
    "    return kernel(x,xprime, lamb) "
   ]
  },
  {
   "cell_type": "code",
   "execution_count": 33,
   "metadata": {},
   "outputs": [
    {
     "name": "stdout",
     "output_type": "stream",
     "text": [
      "[[0.76943028]]\n",
      "[[0.76943028]]\n"
     ]
    }
   ],
   "source": [
    "x0 = np.array([0.0043*0.7**2, 0.286*0.7**2, -1, 1, 3.0, 70, 3.0]).reshape(1,-1)\n",
    "x1 = np.array([0.0043*0.7**2, 0.286*0.7**2, -1, 1, 3.0, 70, 5.0]).reshape(1,-1)\n",
    "print(emu.GP_list[0].get_matrix(x0,x1))\n",
    "print(sigma(x0, x1, np.exp(np.array(emu.lamb)[0])))"
   ]
  },
  {
   "cell_type": "code",
   "execution_count": 81,
   "metadata": {},
   "outputs": [
    {
     "data": {
      "text/plain": [
       "[array([-7.44791527, -7.46475535, -2.59955668, -5.88271629, -3.49390804,\n",
       "        22.35883024,  2.0321575 ]),\n",
       " array([-8.23942986, 13.07829233, -1.64534545, 24.55006208, -2.20850298,\n",
       "         6.52984174,  2.70231684]),\n",
       " array([-2.39901555, -4.98489679,  0.62077564, 27.23396802,  6.66307742,\n",
       "         6.46055102,  5.09675166]),\n",
       " array([-4.20023013, -3.97101133,  2.10243856, 23.33257435,  5.14880233,\n",
       "        10.75333618,  9.90968328])]"
      ]
     },
     "execution_count": 81,
     "metadata": {},
     "output_type": "execute_result"
    }
   ],
   "source": [
    "emu.lamb"
   ]
  },
  {
   "cell_type": "code",
   "execution_count": 34,
   "metadata": {},
   "outputs": [
    {
     "name": "stdout",
     "output_type": "stream",
     "text": [
      "0.002107,0.14013999999999996,-1,1,3.0,70,5.0\n"
     ]
    }
   ],
   "source": [
    "print(\",\".join([str(item)for item in [0.0043*0.7**2, 0.286*0.7**2, -1, 1, 3.0, 70, 5.0]]))"
   ]
  },
  {
   "cell_type": "code",
   "execution_count": 94,
   "metadata": {},
   "outputs": [],
   "source": [
    "def prediction(xprime):\n",
    "    print(sigma(xprime.T,cosmo_pars,np.exp(np.array(emu.lamb))[0])[0][0])\n",
    "    result = []\n",
    "    for i in range(len(emu.lamb)):\n",
    "        mu = np.mean(means[:,i])\n",
    "        sigma_xprime_x = sigma(xprime.T,cosmo_pars,np.exp(np.array(emu.lamb))[i])\n",
    "        print(sigma_xprime_x.shape)\n",
    "        sigma_x_x = sigma(cosmo_pars,cosmo_pars, np.exp(np.array(emu.lamb)[i]))+variances[:,i]*np.eye(len(cosmo_pars))\n",
    "        if i==0:\n",
    "            print(\"test\")\n",
    "            print(np.linalg.inv(sigma_x_x)[0], (means[:,i]-mu), np.linalg.inv(sigma_x_x).dot(means[:,i]-mu)[0], sigma_xprime_x[0][0])\n",
    "            print(\"#####\"*10)\n",
    "        result.append(mu+sigma_xprime_x.dot(np.linalg.inv(sigma_x_x).dot(means[:,i]-mu)))\n",
    "        if i==0:\n",
    "            print(((sigma_x_x)[10,10]))\n",
    "            print((np.linalg.inv(sigma_x_x)[20,10]))\n",
    "    print(sigma_x_x.shape)\n",
    "    print(result, np.mean(means, axis=0))\n",
    "    return np.dot(rotation_matrix,np.array(result)).flatten()"
   ]
  },
  {
   "cell_type": "code",
   "execution_count": 95,
   "metadata": {},
   "outputs": [
    {
     "data": {
      "text/plain": [
       "0.37515414999999996"
      ]
     },
     "execution_count": 95,
     "metadata": {},
     "output_type": "execute_result"
    }
   ],
   "source": [
    "(means[:,0]-np.mean(means[:,0]))[18]"
   ]
  },
  {
   "cell_type": "code",
   "execution_count": 96,
   "metadata": {},
   "outputs": [
    {
     "name": "stdout",
     "output_type": "stream",
     "text": [
      "0.23867028218751893\n",
      "(1, 40)\n",
      "test\n",
      "[ 5.49668965e+01  8.03580384e-01 -5.80580295e+00  5.72987755e+00\n",
      " -1.06162897e+01  3.63960075e-01 -1.14902105e+01 -5.96920925e-01\n",
      "  5.52670068e-01 -9.21030066e+00  1.07538299e+00 -4.29068099e+00\n",
      " -1.87661912e+01 -3.83283219e+00  2.56806517e-01 -2.00247690e+00\n",
      "  1.61000644e+00  1.82314949e-01 -2.92951514e+00  3.93692966e+00\n",
      " -3.53007529e+00 -1.58272169e+01 -5.26731023e+00  3.55959449e+00\n",
      "  5.48738918e+00  9.92022064e+00 -5.19240972e-01  1.39492729e-02\n",
      " -4.72991336e-01  1.62473965e+00 -2.30778852e+00  8.43129140e-01\n",
      "  2.97261223e+00 -1.99635320e+00  2.06215277e+00  4.43740060e-01\n",
      "  2.06942155e+00 -8.72816470e+00  3.05497529e+00  5.30030886e+00] [ 0.22772415 -0.28278585  0.32128415  0.17846415  0.40985415 -0.76878285\n",
      "  0.40140415  0.24942415 -0.39614285  0.31643415 -0.24992585 -0.12223585\n",
      "  0.26071415  0.08741415 -0.76097985 -0.06336585 -0.09263585 -0.06395585\n",
      "  0.37515415  0.37989415  0.04260415  0.15116415 -0.46622185  0.97937415\n",
      "  0.57734415 -0.09004585 -0.43227585  0.06163415 -1.11435885 -0.58425185\n",
      " -0.05438585 -0.46905785  0.48297415  0.10267415 -0.26009585  0.70540415\n",
      " -0.49813685 -0.10155585  0.22265415  0.33760415] 2.656741017005462 0.23867028218751893\n",
      "##################################################\n",
      "1.00627794\n",
      "-1.5528080503278714\n",
      "(1, 40)\n",
      "(1, 40)\n",
      "(1, 40)\n",
      "(40, 40)\n",
      "[array([0.76156217]), array([-0.63344276]), array([-1.20348207]), array([0.34798522])] [ 1.30796585 -0.39295018 -1.1741355   0.52458352]\n"
     ]
    },
    {
     "data": {
      "text/plain": [
       "array([ 1.16115019, -0.59625504,  0.55550433,  0.73369923])"
      ]
     },
     "execution_count": 96,
     "metadata": {},
     "output_type": "execute_result"
    }
   ],
   "source": [
    "prediction(np.array([0.0043*0.7**2, 0.286*0.7**2, -1, 1, 3.0, 70, 3.0]).reshape(-1,1))#"
   ]
  },
  {
   "cell_type": "code",
   "execution_count": 37,
   "metadata": {
    "scrolled": true
   },
   "outputs": [
    {
     "data": {
      "text/plain": [
       "array([ 1.16115019, -0.59625504,  0.55550433,  0.73369923])"
      ]
     },
     "execution_count": 37,
     "metadata": {},
     "output_type": "execute_result"
    }
   ],
   "source": [
    "emu.emulate(np.array([0.0043*0.7**2, 0.286*0.7**2, -1, 1, 3.0, 70, 3.0]))"
   ]
  },
  {
   "cell_type": "code",
   "execution_count": 16,
   "metadata": {},
   "outputs": [
    {
     "data": {
      "text/plain": [
       "(4.432419359036935,\n",
       " 0.32058653615384625,\n",
       " 1.3586846020079848,\n",
       " 1.347376928846154,\n",
       " 0.728081326923077,\n",
       " -1.0947315122509278)"
      ]
     },
     "execution_count": 16,
     "metadata": {},
     "output_type": "execute_result"
    }
   ],
   "source": [
    "emu.predict_tinker_parameters(np.array([0.0043*0.7**2, 0.286*0.7**2, -1, 1, 3.0, 70, 3.0]), 0.3)"
   ]
  },
  {
   "cell_type": "code",
   "execution_count": 89,
   "metadata": {},
   "outputs": [],
   "source": [
    "np.savetxt(\"../data/log_bias_metric.txt\", np.array(emu.lamb))"
   ]
  },
  {
   "cell_type": "code",
   "execution_count": 120,
   "metadata": {},
   "outputs": [
    {
     "data": {
      "text/plain": [
       "(4, 7)"
      ]
     },
     "execution_count": 120,
     "metadata": {},
     "output_type": "execute_result"
    }
   ],
   "source": [
    "np.array(emu.lamb).shape"
   ]
  },
  {
   "cell_type": "code",
   "execution_count": null,
   "metadata": {},
   "outputs": [],
   "source": []
  }
 ],
 "metadata": {
  "kernelspec": {
   "display_name": "Python 3",
   "language": "python",
   "name": "python3"
  },
  "language_info": {
   "codemirror_mode": {
    "name": "ipython",
    "version": 3
   },
   "file_extension": ".py",
   "mimetype": "text/x-python",
   "name": "python",
   "nbconvert_exporter": "python",
   "pygments_lexer": "ipython3",
   "version": "3.7.0"
  }
 },
 "nbformat": 4,
 "nbformat_minor": 2
}
